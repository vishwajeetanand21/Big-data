{
 "cells": [
  {
   "cell_type": "markdown",
   "id": "03e575aa",
   "metadata": {},
   "source": [
    "# Experiment 5: Implementation of various Classification Algorithms"
   ]
  },
  {
   "cell_type": "markdown",
   "id": "01650f0f",
   "metadata": {},
   "source": [
    "## VISHWAJEET ANAND"
   ]
  },
  {
   "cell_type": "markdown",
   "id": "f24cb359",
   "metadata": {},
   "source": [
    "## 40731127"
   ]
  },
  {
   "cell_type": "markdown",
   "id": "554c9546",
   "metadata": {},
   "source": [
    "Importing the necessary libraries"
   ]
  },
  {
   "cell_type": "code",
   "execution_count": 1,
   "id": "7b832da1",
   "metadata": {},
   "outputs": [],
   "source": [
    "import numpy as np\n",
    "import pandas as pd\n",
    "import seaborn as sns\n",
    "import matplotlib.pyplot as plt"
   ]
  },
  {
   "cell_type": "markdown",
   "id": "2cf89a9e",
   "metadata": {},
   "source": [
    "Reading the dataset"
   ]
  },
  {
   "cell_type": "code",
   "execution_count": 2,
   "id": "c19ba081",
   "metadata": {},
   "outputs": [],
   "source": [
    "dataset = pd.read_csv('Social_Network_Ads.csv')\n",
    "X = dataset.iloc[:, :-1].values\n",
    "y = dataset.iloc[:, -1].values"
   ]
  },
  {
   "cell_type": "markdown",
   "id": "246d2eb2",
   "metadata": {},
   "source": [
    "Spliting the dataset into Test and Train"
   ]
  },
  {
   "cell_type": "code",
   "execution_count": 14,
   "id": "d28910c8",
   "metadata": {},
   "outputs": [],
   "source": [
    "from sklearn.model_selection import train_test_split\n",
    "X_train, X_test, y_train, y_test = train_test_split(X, y, random_state=0)\n",
    "from sklearn.preprocessing import StandardScaler\n",
    "scaler = StandardScaler()\n",
    "X_train = scaler.fit_transform(X_train)\n",
    "X_test = scaler.transform(X_test)"
   ]
  },
  {
   "cell_type": "markdown",
   "id": "4a1496bd",
   "metadata": {},
   "source": [
    "# K-Nearest Neighbor(KNN)"
   ]
  },
  {
   "cell_type": "code",
   "execution_count": 4,
   "id": "f8bea398",
   "metadata": {
    "scrolled": true
   },
   "outputs": [
    {
     "name": "stdout",
     "output_type": "stream",
     "text": [
      "Accuracy of Decision Tree classifier on training set: 91.00%\n",
      "Accuracy of Decision Tree classifier on test set: 93.00%\n"
     ]
    }
   ],
   "source": [
    "from sklearn.neighbors import KNeighborsClassifier  \n",
    "knn= KNeighborsClassifier(n_neighbors=5, metric='minkowski', p=2 )  \n",
    "knn.fit(X_train, y_train)  \n",
    "print('Accuracy of Decision Tree classifier on training set: {:.2f}%'.format(knn.score(X_train, y_train)*100))\n",
    "print('Accuracy of Decision Tree classifier on test set: {:.2f}%'.format(knn.score(X_test, y_test)*100))\n",
    "knn_score=knn.score(X_test, y_test)*100"
   ]
  },
  {
   "cell_type": "markdown",
   "id": "c4cdcd12",
   "metadata": {},
   "source": [
    "# Naive Baye's"
   ]
  },
  {
   "cell_type": "code",
   "execution_count": 5,
   "id": "9d73cef8",
   "metadata": {},
   "outputs": [
    {
     "name": "stdout",
     "output_type": "stream",
     "text": [
      "Accuracy of Decision Tree classifier on training set: 88.33%\n",
      "Accuracy of Decision Tree classifier on test set: 90.00%\n"
     ]
    }
   ],
   "source": [
    "from sklearn.naive_bayes import GaussianNB  \n",
    "nb = GaussianNB()  \n",
    "nb.fit(X_train, y_train)  \n",
    "print('Accuracy of Decision Tree classifier on training set: {:.2f}%'.format(nb.score(X_train, y_train)*100))\n",
    "print('Accuracy of Decision Tree classifier on test set: {:.2f}%'.format(nb.score(X_test, y_test)*100))\n",
    "nb_score=nb.score(X_test, y_test)*100"
   ]
  },
  {
   "cell_type": "markdown",
   "id": "c79c4bf2",
   "metadata": {},
   "source": [
    "# Decision Tree"
   ]
  },
  {
   "cell_type": "code",
   "execution_count": 6,
   "id": "8cc2a50a",
   "metadata": {},
   "outputs": [
    {
     "name": "stdout",
     "output_type": "stream",
     "text": [
      "Accuracy of Decision Tree classifier on training set: 100.00%\n",
      "Accuracy of Decision Tree classifier on test set: 91.00%\n"
     ]
    }
   ],
   "source": [
    "from sklearn.tree import DecisionTreeClassifier  \n",
    "dt= DecisionTreeClassifier(criterion='entropy', random_state=0) \n",
    "dt.fit(X_train,y_train)\n",
    "print('Accuracy of Decision Tree classifier on training set: {:.2f}%'.format(dt.score(X_train, y_train)*100))\n",
    "print('Accuracy of Decision Tree classifier on test set: {:.2f}%'.format(dt.score(X_test, y_test)*100))\n",
    "dt_score=dt.score(X_test, y_test)*100"
   ]
  },
  {
   "cell_type": "markdown",
   "id": "d6bc0a46",
   "metadata": {},
   "source": [
    "# Logistic Regression"
   ]
  },
  {
   "cell_type": "code",
   "execution_count": 7,
   "id": "78fcecaa",
   "metadata": {},
   "outputs": [
    {
     "name": "stdout",
     "output_type": "stream",
     "text": [
      "Accuracy of Logistic regression classifier on training set: 82.33%\n",
      "Accuracy of Logistic regression classifier on test set: 89.00%\n"
     ]
    }
   ],
   "source": [
    "from sklearn.linear_model import LogisticRegression\n",
    "logreg = LogisticRegression()\n",
    "logreg.fit(X_train, y_train)\n",
    "print('Accuracy of Logistic regression classifier on training set: {:.2f}%'.format(logreg.score(X_train, y_train)*100))\n",
    "print('Accuracy of Logistic regression classifier on test set: {:.2f}%'.format(logreg.score(X_test, y_test)*100))\n",
    "logreg_score=logreg.score(X_test, y_test)*100"
   ]
  },
  {
   "cell_type": "markdown",
   "id": "5b64c90d",
   "metadata": {},
   "source": [
    "# Random Forest Classifier"
   ]
  },
  {
   "cell_type": "code",
   "execution_count": 8,
   "id": "8fe9055b",
   "metadata": {},
   "outputs": [
    {
     "name": "stdout",
     "output_type": "stream",
     "text": [
      "Accuracy of Randaom Forest classifier on training set: 98.00%\n",
      "Accuracy of Random forest classifier on testing set: 91.00%\n"
     ]
    }
   ],
   "source": [
    "from sklearn.ensemble import RandomForestClassifier\n",
    "randclas = RandomForestClassifier(n_estimators = 10, criterion = 'entropy', random_state = 0)\n",
    "randclas.fit(X_train, y_train)\n",
    "print('Accuracy of Randaom Forest classifier on training set: {:.2f}%'.format(randclas.score(X_train, y_train)*100))\n",
    "print('Accuracy of Random forest classifier on testing set: {:.2f}%'.format(randclas.score(X_test, y_test)*100))\n",
    "randclas_score=randclas.score(X_test, y_test)*100"
   ]
  },
  {
   "cell_type": "markdown",
   "id": "6f657d58",
   "metadata": {},
   "source": [
    "# Support vector machine (SVM)"
   ]
  },
  {
   "cell_type": "code",
   "execution_count": 9,
   "id": "363d1fc6",
   "metadata": {},
   "outputs": [
    {
     "name": "stdout",
     "output_type": "stream",
     "text": [
      "Accuracy of support vector machine on training set: 82.33%\n",
      "Accuracy of support vector machine on testing set: 90.00%\n"
     ]
    }
   ],
   "source": [
    "from sklearn.svm import SVC\n",
    "svcclas = SVC(kernel = 'linear', random_state = 0)\n",
    "svcclas.fit(X_train, y_train)\n",
    "print('Accuracy of support vector machine on training set: {:.2f}%'.format(svcclas.score(X_train, y_train)*100))\n",
    "print('Accuracy of support vector machine on testing set: {:.2f}%'.format(svcclas.score(X_test,y_test)*100))\n",
    "svcclas_score=svcclas.score(X_test,y_test)*100"
   ]
  },
  {
   "cell_type": "markdown",
   "id": "7b13f9b8",
   "metadata": {},
   "source": [
    "# Gradient Boosting for Regression"
   ]
  },
  {
   "cell_type": "code",
   "execution_count": 10,
   "id": "d4b10194",
   "metadata": {},
   "outputs": [
    {
     "name": "stdout",
     "output_type": "stream",
     "text": [
      " Accuracy of gradient boosting on training set: 85.98%\n",
      " Accuracy of gradient boosting on testing set: 72.30%\n"
     ]
    }
   ],
   "source": [
    "from sklearn.ensemble import GradientBoostingRegressor\n",
    "gbr = GradientBoostingRegressor(n_estimators = 1000, max_depth = 3, min_samples_split = 5,learning_rate = 0.01,loss = 'ls')\n",
    "gbr.fit(X_train, y_train)\n",
    "print(\" Accuracy of gradient boosting on training set: {:.2f}%\".format(gbr.score(X_train, y_train)*100))\n",
    "print(\" Accuracy of gradient boosting on testing set: {:.2f}%\".format(gbr.score(X_test, y_test)*100))\n",
    "gbr_score=gbr.score(X_test, y_test)*100\n",
    "gbr_score=round(gbr_score,2)"
   ]
  },
  {
   "cell_type": "markdown",
   "id": "ec722952",
   "metadata": {},
   "source": [
    "# Accuracy score of different algorithms on the test data"
   ]
  },
  {
   "cell_type": "code",
   "execution_count": 11,
   "id": "1eb6e6e0",
   "metadata": {},
   "outputs": [
    {
     "name": "stdout",
     "output_type": "stream",
     "text": [
      "The accuracy score achieved using K-Nearest Neighbour is: 93.0% \n",
      "The accuracy score achieved using Naive Bayes is: 90.0% \n",
      "The accuracy score achieved using Decision Tree is: 91.0% \n",
      "The accuracy score achieved using Logistic Regression is: 89.0% \n",
      "The accuracy score achieved using Random Forest is: 91.0% \n",
      "The accuracy score achieved using Support Vector Machine is: 90.0% \n",
      "The accuracy score achieved using Gradient Boosting for Regression is: 72.3% \n"
     ]
    }
   ],
   "source": [
    "score=[knn_score, nb_score, dt_score, logreg_score, randclas_score, svcclas_score, gbr_score]\n",
    "algorithms=['K-Nearest Neighbour', 'Naive Bayes','Decision Tree', 'Logistic Regression', 'Random Forest', 'Support Vector Machine', 'Gradient Boosting for Regression']\n",
    "for i in range(len(algorithms)):\n",
    "    print(\"The accuracy score achieved using {} is: {}% \".format(algorithms[i],str(score[i])))"
   ]
  },
  {
   "cell_type": "markdown",
   "id": "22ade817",
   "metadata": {},
   "source": [
    "# Graph visualization "
   ]
  },
  {
   "cell_type": "code",
   "execution_count": 12,
   "id": "13747401",
   "metadata": {},
   "outputs": [
    {
     "name": "stderr",
     "output_type": "stream",
     "text": [
      "C:\\Users\\VISHWaAJEET\\anaconda3\\lib\\site-packages\\seaborn\\_decorators.py:36: FutureWarning: Pass the following variables as keyword args: x, y. From version 0.12, the only valid positional argument will be `data`, and passing other arguments without an explicit keyword will result in an error or misinterpretation.\n",
      "  warnings.warn(\n"
     ]
    },
    {
     "data": {
      "text/plain": [
       "<AxesSubplot:xlabel='Algorithms', ylabel='Accuracy Scores (in %)'>"
      ]
     },
     "execution_count": 12,
     "metadata": {},
     "output_type": "execute_result"
    },
    {
     "data": {
      "image/png": "[encoded data removed]",
      "text/plain": [
       "<Figure size 1440x504 with 1 Axes>"
      ]
     },
     "metadata": {},
     "output_type": "display_data"
    }
   ],
   "source": [
    "sns.set(rc={'figure.figsize':(20,7)})\n",
    "plt.xlabel('Algorithms')\n",
    "plt.ylabel(\"Accuracy Scores (in %)\")\n",
    "sns.barplot(algorithms,score)"
   ]
  }
 ],
 "metadata": {
  "kernelspec": {
   "display_name": "Python 3 (ipykernel)",
   "language": "python",
   "name": "python3"
  },
  "language_info": {
   "codemirror_mode": {
    "name": "ipython",
    "version": 3
   },
   "file_extension": ".py",
   "mimetype": "text/x-python",
   "name": "python",
   "nbconvert_exporter": "python",
   "pygments_lexer": "ipython3",
   "version": "3.9.7"
  }
 },
 "nbformat": 4,
 "nbformat_minor": 5
}
