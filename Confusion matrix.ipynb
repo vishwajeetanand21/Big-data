{
 "cells": [
  {
   "cell_type": "markdown",
   "id": "eae70ada",
   "metadata": {},
   "source": [
    "# Confusion Matrix\n"
   ]
  },
  {
   "cell_type": "markdown",
   "id": "8f94b38f",
   "metadata": {},
   "source": [
    "# VISHWAJEET ANAND\n",
    "## 40731127"
   ]
  },
  {
   "cell_type": "markdown",
   "id": "b691cf79",
   "metadata": {},
   "source": [
    "Importing the necessary libraries "
   ]
  },
  {
   "cell_type": "code",
   "execution_count": 1,
   "id": "77f0f4ee",
   "metadata": {},
   "outputs": [],
   "source": [
    "import pandas as pd\n",
    "import numpy as np\n",
    "from sklearn.preprocessing import StandardScaler\n",
    "from sklearn.svm import SVC\n",
    "from sklearn.metrics import confusion_matrix\n",
    "from sklearn.metrics import precision_score, recall_score, f1_score, accuracy_score\n",
    "import matplotlib.pyplot as plt\n",
    "from sklearn.model_selection import train_test_split"
   ]
  },
  {
   "cell_type": "markdown",
   "id": "8c1ef5e5",
   "metadata": {},
   "source": [
    "Loading the dataset"
   ]
  },
  {
   "cell_type": "code",
   "execution_count": 2,
   "id": "f18aa8ff",
   "metadata": {},
   "outputs": [],
   "source": [
    "social = pd.read_csv(\"Social_Network_Ads.csv\")"
   ]
  },
  {
   "cell_type": "markdown",
   "id": "29de0a38",
   "metadata": {},
   "source": [
    "Spliting the dataset into test and train"
   ]
  },
  {
   "cell_type": "code",
   "execution_count": 3,
   "id": "f6416749",
   "metadata": {},
   "outputs": [],
   "source": [
    "X=social.iloc[:,[2,3]].values\n",
    "y=social.iloc[:,-1].values\n",
    "X_train,X_test,y_train,y_test=train_test_split(X,y,test_size=0.20)"
   ]
  },
  {
   "cell_type": "markdown",
   "id": "d8940b36",
   "metadata": {},
   "source": [
    "Training the model"
   ]
  },
  {
   "cell_type": "code",
   "execution_count": 4,
   "id": "e9810dc2",
   "metadata": {},
   "outputs": [
    {
     "data": {
      "text/plain": [
       "SVC(C=10.0, kernel='linear', random_state=1)"
      ]
     },
     "execution_count": 4,
     "metadata": {},
     "output_type": "execute_result"
    }
   ],
   "source": [
    "sc=StandardScaler()\n",
    "sc.fit(X_train)\n",
    "X_train=sc.transform(X_train)\n",
    "X_test=sc.transform(X_test)\n",
    "svc=SVC(kernel='linear',C=10.0,random_state=1)\n",
    "svc.fit(X_train,y_train)\n",
    "SVC(C=10.0, kernel='linear', random_state=1)"
   ]
  },
  {
   "cell_type": "markdown",
   "id": "a89ac3c2",
   "metadata": {},
   "source": [
    "Making predictions"
   ]
  },
  {
   "cell_type": "code",
   "execution_count": 5,
   "id": "fcbcc36f",
   "metadata": {},
   "outputs": [],
   "source": [
    "y_pred=svc.predict(X_test)"
   ]
  },
  {
   "cell_type": "markdown",
   "id": "b94393df",
   "metadata": {},
   "source": [
    "Plotting confusion matrix"
   ]
  },
  {
   "cell_type": "code",
   "execution_count": 6,
   "id": "4827c731",
   "metadata": {},
   "outputs": [
    {
     "data": {
      "text/plain": [
       "<matplotlib.image.AxesImage at 0x2379fa96070>"
      ]
     },
     "execution_count": 6,
     "metadata": {},
     "output_type": "execute_result"
    },
    {
     "data": {
      "image/png": "[encoded data removed]",
      "text/plain": [
       "<Figure size 360x360 with 1 Axes>"
      ]
     },
     "metadata": {
      "needs_background": "light"
     },
     "output_type": "display_data"
    }
   ],
   "source": [
    "conf_matrix=confusion_matrix(y_true=y_test,y_pred=y_pred)\n",
    "fig,ax=plt.subplots(figsize=(5,5))\n",
    "ax.matshow(conf_matrix,cmap=plt.cm.Oranges,alpha=0.3)"
   ]
  },
  {
   "cell_type": "code",
   "execution_count": 7,
   "id": "0b3484cc",
   "metadata": {},
   "outputs": [
    {
     "data": {
      "image/png": "[encoded data removed]",
      "text/plain": [
       "<Figure size 432x288 with 1 Axes>"
      ]
     },
     "metadata": {
      "needs_background": "light"
     },
     "output_type": "display_data"
    }
   ],
   "source": [
    "for i in range(conf_matrix.shape[0]):\n",
    "    for j in range(conf_matrix.shape[1]):\n",
    "        ax.text(x=j,y=i,s=conf_matrix[i,j],va='center',size='xx-large')\n",
    "plt.plot(y_test,y_pred)\n",
    "plt.xlabel('Predictions',fontsize=18)\n",
    "plt.ylabel('Actuals',fontsize=18)\n",
    "plt.title('Confusion Matrix',fontsize=18)\n",
    "plt.show()"
   ]
  },
  {
   "cell_type": "markdown",
   "id": "18d1cdbd",
   "metadata": {},
   "source": [
    "Analyzing the accuracy of our model"
   ]
  },
  {
   "cell_type": "code",
   "execution_count": 8,
   "id": "6d9bf668",
   "metadata": {},
   "outputs": [
    {
     "name": "stdout",
     "output_type": "stream",
     "text": [
      "Precision: 0.765\n",
      "Recall: 0.839\n",
      "Accuracy: 0.837500\n",
      "fl_score: 0.800\n"
     ]
    }
   ],
   "source": [
    "print('Precision: %.3f'%precision_score(y_test,y_pred))\n",
    "print('Recall: %.3f'%recall_score(y_test,y_pred))\n",
    "print('Accuracy: %3f'%accuracy_score(y_test,y_pred))\n",
    "print('fl_score: %.3f'%f1_score(y_test,y_pred))"
   ]
  },
  {
   "cell_type": "code",
   "execution_count": null,
   "id": "0c46debc",
   "metadata": {},
   "outputs": [],
   "source": []
  }
 ],
 "metadata": {
  "kernelspec": {
   "display_name": "Python 3 (ipykernel)",
   "language": "python",
   "name": "python3"
  },
  "language_info": {
   "codemirror_mode": {
    "name": "ipython",
    "version": 3
   },
   "file_extension": ".py",
   "mimetype": "text/x-python",
   "name": "python",
   "nbconvert_exporter": "python",
   "pygments_lexer": "ipython3",
   "version": "3.9.7"
  }
 },
 "nbformat": 4,
 "nbformat_minor": 5
}
